{
 "cells": [
  {
   "cell_type": "code",
   "execution_count": 2,
   "id": "d7ffb2db",
   "metadata": {},
   "outputs": [],
   "source": [
    "import pandas as pd\n",
    "import numpy as np\n",
    "import matplotlib.pyplot as plt"
   ]
  },
  {
   "cell_type": "code",
   "execution_count": 4,
   "id": "cf53ee34",
   "metadata": {},
   "outputs": [],
   "source": [
    "file_path = \"C:\\\\Users\\\\Priyanka\\\\Downloads\\\\PupilBioTest_PMP_revA.csv\""
   ]
  },
  {
   "cell_type": "code",
   "execution_count": null,
   "id": "84e6f287",
   "metadata": {},
   "outputs": [],
   "source": [
    "data = pd.read_csv(file_path)"
   ]
  },
  {
   "cell_type": "code",
   "execution_count": null,
   "id": "4299e753",
   "metadata": {
    "scrolled": true
   },
   "outputs": [],
   "source": [
    "data.head()"
   ]
  },
  {
   "cell_type": "code",
   "execution_count": null,
   "id": "a5628155",
   "metadata": {},
   "outputs": [],
   "source": [
    "# Renaming columns\n",
    "data.rename(columns={\n",
    "    '`000': '000',\n",
    "    '`001': '001',\n",
    "    '`010': '010',\n",
    "    '`011': '011',\n",
    "    '`100': '100',\n",
    "    '`101': '101',\n",
    "    '`110': '110',\n",
    "    '`111': '111'\n",
    "}, inplace=True)"
   ]
  },
  {
   "cell_type": "code",
   "execution_count": null,
   "id": "789230ab",
   "metadata": {
    "scrolled": true
   },
   "outputs": [],
   "source": [
    "data.columns.tolist()"
   ]
  },
  {
   "cell_type": "code",
   "execution_count": null,
   "id": "c4172f60",
   "metadata": {},
   "outputs": [],
   "source": [
    "## Identify PMPs with high specificity for tissue differentiation"
   ]
  },
  {
   "cell_type": "code",
   "execution_count": null,
   "id": "ea19285c",
   "metadata": {},
   "outputs": [],
   "source": [
    "import pandas as pd\n",
    "from scipy.stats import chi2_contingency\n",
    "\n",
    "# Create a DataFrame\n",
    "df = pd.DataFrame(data)\n",
    "\n",
    "# Reshape the data into a contingency table format\n",
    "# We will count occurrences of each methylation pattern for each tissue type\n",
    "patterns_columns = ['000', '001', '010', '011', '100', '101', '110', '111']\n",
    "\n",
    "# Create a new DataFrame for the contingency table (group by Tissue)\n",
    "contingency_table = df.groupby('Tissue')[patterns_columns].sum()\n",
    "\n",
    "# Ensure the contingency table is in the right format for chi2_contingency\n",
    "# Each row represents a Tissue type, and each column represents a methylation pattern\n",
    "print(contingency_table)\n",
    "\n",
    "# Now we perform the Chi-squared test on the contingency table\n",
    "chi2, p, dof, expected = chi2_contingency(contingency_table)\n",
    "\n",
    "# Output p-value for each methylation pattern's differentiation\n",
    "print(\"Chi-squared Test Results:\")\n",
    "print(f\"Chi2 Statistic: {chi2}\")\n",
    "print(f\"P-value: {p}\")\n"
   ]
  },
  {
   "cell_type": "code",
   "execution_count": null,
   "id": "5a562e4b",
   "metadata": {},
   "outputs": [],
   "source": []
  }
 ],
 "metadata": {
  "kernelspec": {
   "display_name": "Python 3 (ipykernel)",
   "language": "python",
   "name": "python3"
  },
  "language_info": {
   "codemirror_mode": {
    "name": "ipython",
    "version": 3
   },
   "file_extension": ".py",
   "mimetype": "text/x-python",
   "name": "python",
   "nbconvert_exporter": "python",
   "pygments_lexer": "ipython3",
   "version": "3.10.9"
  }
 },
 "nbformat": 4,
 "nbformat_minor": 5
}
