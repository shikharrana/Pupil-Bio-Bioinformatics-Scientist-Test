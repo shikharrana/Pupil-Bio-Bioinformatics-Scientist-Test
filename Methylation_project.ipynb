{
 "cells": [
  {
   "cell_type": "code",
   "execution_count": 1,
   "id": "1b2df8d2",
   "metadata": {},
   "outputs": [],
   "source": [
    "## import pandas library"
   ]
  },
  {
   "cell_type": "code",
   "execution_count": 2,
   "id": "3b387249",
   "metadata": {},
   "outputs": [],
   "source": [
    "import pandas as pd\n",
    "import numpy as np\n",
    "import matplotlib.pyplot as plt"
   ]
  },
  {
   "cell_type": "code",
   "execution_count": 3,
   "id": "7bad3acb",
   "metadata": {},
   "outputs": [],
   "source": [
    "## load the methylation dataset"
   ]
  },
  {
   "cell_type": "code",
   "execution_count": 4,
   "id": "556c7cac",
   "metadata": {},
   "outputs": [],
   "source": [
    "file_path = \"C:\\\\Users\\\\shikhar\\\\Downloads\\\\PupilBioTest_PMP_revA.csv\""
   ]
  },
  {
   "cell_type": "code",
   "execution_count": 5,
   "id": "6b0de0bc",
   "metadata": {},
   "outputs": [],
   "source": [
    "data = pd.read_csv(file_path)"
   ]
  },
  {
   "cell_type": "code",
   "execution_count": 6,
   "id": "45cc0509",
   "metadata": {},
   "outputs": [],
   "source": [
    "## check the methylation data "
   ]
  },
  {
   "cell_type": "code",
   "execution_count": 7,
   "id": "8f9c056d",
   "metadata": {},
   "outputs": [
    {
     "data": {
      "text/html": [
       "<div>\n",
       "<style scoped>\n",
       "    .dataframe tbody tr th:only-of-type {\n",
       "        vertical-align: middle;\n",
       "    }\n",
       "\n",
       "    .dataframe tbody tr th {\n",
       "        vertical-align: top;\n",
       "    }\n",
       "\n",
       "    .dataframe thead th {\n",
       "        text-align: right;\n",
       "    }\n",
       "</style>\n",
       "<table border=\"1\" class=\"dataframe\">\n",
       "  <thead>\n",
       "    <tr style=\"text-align: right;\">\n",
       "      <th></th>\n",
       "      <th>strand</th>\n",
       "      <th>CpG_Coordinates</th>\n",
       "      <th>`000</th>\n",
       "      <th>`001</th>\n",
       "      <th>`010</th>\n",
       "      <th>`011</th>\n",
       "      <th>`100</th>\n",
       "      <th>`101</th>\n",
       "      <th>`110</th>\n",
       "      <th>`111</th>\n",
       "      <th>Sample_ID</th>\n",
       "      <th>Replicate</th>\n",
       "      <th>Tissue</th>\n",
       "    </tr>\n",
       "  </thead>\n",
       "  <tbody>\n",
       "    <tr>\n",
       "      <th>0</th>\n",
       "      <td>r</td>\n",
       "      <td>10035:10044:10046</td>\n",
       "      <td>1077</td>\n",
       "      <td>9</td>\n",
       "      <td>0</td>\n",
       "      <td>0</td>\n",
       "      <td>0</td>\n",
       "      <td>0</td>\n",
       "      <td>0</td>\n",
       "      <td>4</td>\n",
       "      <td>1</td>\n",
       "      <td>Rep2</td>\n",
       "      <td>cfDNA</td>\n",
       "    </tr>\n",
       "    <tr>\n",
       "      <th>1</th>\n",
       "      <td>r</td>\n",
       "      <td>10035:10044:10053</td>\n",
       "      <td>1086</td>\n",
       "      <td>0</td>\n",
       "      <td>0</td>\n",
       "      <td>0</td>\n",
       "      <td>0</td>\n",
       "      <td>0</td>\n",
       "      <td>0</td>\n",
       "      <td>4</td>\n",
       "      <td>1</td>\n",
       "      <td>Rep2</td>\n",
       "      <td>cfDNA</td>\n",
       "    </tr>\n",
       "    <tr>\n",
       "      <th>2</th>\n",
       "      <td>r</td>\n",
       "      <td>10035:10044:10058</td>\n",
       "      <td>1069</td>\n",
       "      <td>17</td>\n",
       "      <td>0</td>\n",
       "      <td>0</td>\n",
       "      <td>0</td>\n",
       "      <td>0</td>\n",
       "      <td>0</td>\n",
       "      <td>4</td>\n",
       "      <td>1</td>\n",
       "      <td>Rep2</td>\n",
       "      <td>cfDNA</td>\n",
       "    </tr>\n",
       "    <tr>\n",
       "      <th>3</th>\n",
       "      <td>r</td>\n",
       "      <td>10035:10044:10071</td>\n",
       "      <td>1072</td>\n",
       "      <td>14</td>\n",
       "      <td>0</td>\n",
       "      <td>0</td>\n",
       "      <td>0</td>\n",
       "      <td>0</td>\n",
       "      <td>0</td>\n",
       "      <td>4</td>\n",
       "      <td>1</td>\n",
       "      <td>Rep2</td>\n",
       "      <td>cfDNA</td>\n",
       "    </tr>\n",
       "    <tr>\n",
       "      <th>4</th>\n",
       "      <td>r</td>\n",
       "      <td>10035:10044:10075</td>\n",
       "      <td>1086</td>\n",
       "      <td>0</td>\n",
       "      <td>0</td>\n",
       "      <td>0</td>\n",
       "      <td>0</td>\n",
       "      <td>0</td>\n",
       "      <td>0</td>\n",
       "      <td>4</td>\n",
       "      <td>1</td>\n",
       "      <td>Rep2</td>\n",
       "      <td>cfDNA</td>\n",
       "    </tr>\n",
       "  </tbody>\n",
       "</table>\n",
       "</div>"
      ],
      "text/plain": [
       "  strand    CpG_Coordinates  `000  `001  `010  `011  `100  `101  `110  `111  \\\n",
       "0      r  10035:10044:10046  1077     9     0     0     0     0     0     4   \n",
       "1      r  10035:10044:10053  1086     0     0     0     0     0     0     4   \n",
       "2      r  10035:10044:10058  1069    17     0     0     0     0     0     4   \n",
       "3      r  10035:10044:10071  1072    14     0     0     0     0     0     4   \n",
       "4      r  10035:10044:10075  1086     0     0     0     0     0     0     4   \n",
       "\n",
       "   Sample_ID Replicate Tissue  \n",
       "0          1      Rep2  cfDNA  \n",
       "1          1      Rep2  cfDNA  \n",
       "2          1      Rep2  cfDNA  \n",
       "3          1      Rep2  cfDNA  \n",
       "4          1      Rep2  cfDNA  "
      ]
     },
     "execution_count": 7,
     "metadata": {},
     "output_type": "execute_result"
    }
   ],
   "source": [
    "data.head()"
   ]
  },
  {
   "cell_type": "code",
   "execution_count": 8,
   "id": "2bd86864",
   "metadata": {},
   "outputs": [
    {
     "data": {
      "text/html": [
       "<div>\n",
       "<style scoped>\n",
       "    .dataframe tbody tr th:only-of-type {\n",
       "        vertical-align: middle;\n",
       "    }\n",
       "\n",
       "    .dataframe tbody tr th {\n",
       "        vertical-align: top;\n",
       "    }\n",
       "\n",
       "    .dataframe thead th {\n",
       "        text-align: right;\n",
       "    }\n",
       "</style>\n",
       "<table border=\"1\" class=\"dataframe\">\n",
       "  <thead>\n",
       "    <tr style=\"text-align: right;\">\n",
       "      <th></th>\n",
       "      <th>strand</th>\n",
       "      <th>CpG_Coordinates</th>\n",
       "      <th>`000</th>\n",
       "      <th>`001</th>\n",
       "      <th>`010</th>\n",
       "      <th>`011</th>\n",
       "      <th>`100</th>\n",
       "      <th>`101</th>\n",
       "      <th>`110</th>\n",
       "      <th>`111</th>\n",
       "      <th>Sample_ID</th>\n",
       "      <th>Replicate</th>\n",
       "      <th>Tissue</th>\n",
       "    </tr>\n",
       "  </thead>\n",
       "  <tbody>\n",
       "    <tr>\n",
       "      <th>15392178</th>\n",
       "      <td>f</td>\n",
       "      <td>9998:10121:10133</td>\n",
       "      <td>76</td>\n",
       "      <td>0</td>\n",
       "      <td>0</td>\n",
       "      <td>0</td>\n",
       "      <td>0</td>\n",
       "      <td>0</td>\n",
       "      <td>0</td>\n",
       "      <td>0</td>\n",
       "      <td>80</td>\n",
       "      <td>Rep1</td>\n",
       "      <td>Islet</td>\n",
       "    </tr>\n",
       "    <tr>\n",
       "      <th>15392179</th>\n",
       "      <td>f</td>\n",
       "      <td>9998:10121:10140</td>\n",
       "      <td>47</td>\n",
       "      <td>0</td>\n",
       "      <td>0</td>\n",
       "      <td>0</td>\n",
       "      <td>0</td>\n",
       "      <td>0</td>\n",
       "      <td>0</td>\n",
       "      <td>0</td>\n",
       "      <td>80</td>\n",
       "      <td>Rep1</td>\n",
       "      <td>Islet</td>\n",
       "    </tr>\n",
       "    <tr>\n",
       "      <th>15392180</th>\n",
       "      <td>f</td>\n",
       "      <td>9998:10130:10133</td>\n",
       "      <td>76</td>\n",
       "      <td>0</td>\n",
       "      <td>0</td>\n",
       "      <td>0</td>\n",
       "      <td>0</td>\n",
       "      <td>0</td>\n",
       "      <td>0</td>\n",
       "      <td>0</td>\n",
       "      <td>80</td>\n",
       "      <td>Rep1</td>\n",
       "      <td>Islet</td>\n",
       "    </tr>\n",
       "    <tr>\n",
       "      <th>15392181</th>\n",
       "      <td>f</td>\n",
       "      <td>9998:10130:10140</td>\n",
       "      <td>47</td>\n",
       "      <td>0</td>\n",
       "      <td>0</td>\n",
       "      <td>0</td>\n",
       "      <td>0</td>\n",
       "      <td>0</td>\n",
       "      <td>0</td>\n",
       "      <td>0</td>\n",
       "      <td>80</td>\n",
       "      <td>Rep1</td>\n",
       "      <td>Islet</td>\n",
       "    </tr>\n",
       "    <tr>\n",
       "      <th>15392182</th>\n",
       "      <td>f</td>\n",
       "      <td>9998:10133:10140</td>\n",
       "      <td>47</td>\n",
       "      <td>0</td>\n",
       "      <td>0</td>\n",
       "      <td>0</td>\n",
       "      <td>0</td>\n",
       "      <td>0</td>\n",
       "      <td>0</td>\n",
       "      <td>0</td>\n",
       "      <td>80</td>\n",
       "      <td>Rep1</td>\n",
       "      <td>Islet</td>\n",
       "    </tr>\n",
       "  </tbody>\n",
       "</table>\n",
       "</div>"
      ],
      "text/plain": [
       "         strand   CpG_Coordinates  `000  `001  `010  `011  `100  `101  `110  \\\n",
       "15392178      f  9998:10121:10133    76     0     0     0     0     0     0   \n",
       "15392179      f  9998:10121:10140    47     0     0     0     0     0     0   \n",
       "15392180      f  9998:10130:10133    76     0     0     0     0     0     0   \n",
       "15392181      f  9998:10130:10140    47     0     0     0     0     0     0   \n",
       "15392182      f  9998:10133:10140    47     0     0     0     0     0     0   \n",
       "\n",
       "          `111  Sample_ID Replicate Tissue  \n",
       "15392178     0         80      Rep1  Islet  \n",
       "15392179     0         80      Rep1  Islet  \n",
       "15392180     0         80      Rep1  Islet  \n",
       "15392181     0         80      Rep1  Islet  \n",
       "15392182     0         80      Rep1  Islet  "
      ]
     },
     "execution_count": 8,
     "metadata": {},
     "output_type": "execute_result"
    }
   ],
   "source": [
    "data.tail()"
   ]
  },
  {
   "cell_type": "code",
   "execution_count": 9,
   "id": "667b991e",
   "metadata": {},
   "outputs": [
    {
     "data": {
      "text/plain": [
       "array(['cfDNA', 'Islet'], dtype=object)"
      ]
     },
     "execution_count": 9,
     "metadata": {},
     "output_type": "execute_result"
    }
   ],
   "source": [
    "data[\"Tissue\"].unique()"
   ]
  },
  {
   "cell_type": "code",
   "execution_count": 10,
   "id": "8f9a4cf8",
   "metadata": {},
   "outputs": [
    {
     "data": {
      "text/plain": [
       "Tissue\n",
       "cfDNA    11602083\n",
       "Islet     3790100\n",
       "Name: count, dtype: int64"
      ]
     },
     "execution_count": 10,
     "metadata": {},
     "output_type": "execute_result"
    }
   ],
   "source": [
    "data[\"Tissue\"].value_counts()"
   ]
  },
  {
   "cell_type": "code",
   "execution_count": 11,
   "id": "19333b28",
   "metadata": {},
   "outputs": [],
   "source": [
    "## check the NAN value in each column "
   ]
  },
  {
   "cell_type": "code",
   "execution_count": 12,
   "id": "9625e8c1",
   "metadata": {},
   "outputs": [
    {
     "data": {
      "text/plain": [
       "strand             0\n",
       "CpG_Coordinates    0\n",
       "`000               0\n",
       "`001               0\n",
       "`010               0\n",
       "`011               0\n",
       "`100               0\n",
       "`101               0\n",
       "`110               0\n",
       "`111               0\n",
       "Sample_ID          0\n",
       "Replicate          0\n",
       "Tissue             0\n",
       "dtype: int64"
      ]
     },
     "execution_count": 12,
     "metadata": {},
     "output_type": "execute_result"
    }
   ],
   "source": [
    "data.isna().sum()"
   ]
  },
  {
   "cell_type": "code",
   "execution_count": 13,
   "id": "02593180",
   "metadata": {},
   "outputs": [
    {
     "data": {
      "text/plain": [
       "array(['Rep2', 'Rep1'], dtype=object)"
      ]
     },
     "execution_count": 13,
     "metadata": {},
     "output_type": "execute_result"
    }
   ],
   "source": [
    "data[\"Replicate\"].unique()"
   ]
  },
  {
   "cell_type": "code",
   "execution_count": 14,
   "id": "0e740e1f",
   "metadata": {},
   "outputs": [
    {
     "data": {
      "text/plain": [
       "array([ 1,  2,  3,  4,  5,  6,  7,  8,  9, 10, 11, 12, 13, 14, 15, 16, 17,\n",
       "       18, 19, 20, 21, 22, 23, 24, 25, 26, 27, 28, 29, 30, 31, 32, 33, 34,\n",
       "       35, 36, 37, 38, 39, 40, 41, 42, 43, 44, 45, 46, 47, 48, 49, 50, 51,\n",
       "       52, 53, 54, 55, 56, 57, 58, 59, 60, 61, 62, 63, 64, 65, 66, 67, 68,\n",
       "       69, 70, 71, 72, 73, 74, 75, 76, 77, 78, 79, 80], dtype=int64)"
      ]
     },
     "execution_count": 14,
     "metadata": {},
     "output_type": "execute_result"
    }
   ],
   "source": [
    "data[\"Sample_ID\"].unique()"
   ]
  },
  {
   "cell_type": "code",
   "execution_count": 15,
   "id": "5a352a35",
   "metadata": {},
   "outputs": [],
   "source": [
    "# Calculate total coverage for each CpG site"
   ]
  },
  {
   "cell_type": "code",
   "execution_count": 16,
   "id": "98b1019e",
   "metadata": {
    "scrolled": true
   },
   "outputs": [
    {
     "data": {
      "text/plain": [
       "['strand',\n",
       " 'CpG_Coordinates',\n",
       " '`000',\n",
       " '`001',\n",
       " '`010',\n",
       " '`011',\n",
       " '`100',\n",
       " '`101',\n",
       " '`110',\n",
       " '`111',\n",
       " 'Sample_ID',\n",
       " 'Replicate',\n",
       " 'Tissue']"
      ]
     },
     "execution_count": 16,
     "metadata": {},
     "output_type": "execute_result"
    }
   ],
   "source": [
    "data.columns.tolist()"
   ]
  },
  {
   "cell_type": "code",
   "execution_count": 17,
   "id": "4a8614aa",
   "metadata": {},
   "outputs": [],
   "source": [
    "# Renaming columns\n",
    "data.rename(columns={\n",
    "    '`000': '000',\n",
    "    '`001': '001',\n",
    "    '`010': '010',\n",
    "    '`011': '011',\n",
    "    '`100': '100',\n",
    "    '`101': '101',\n",
    "    '`110': '110',\n",
    "    '`111': '111'\n",
    "}, inplace=True)"
   ]
  },
  {
   "cell_type": "code",
   "execution_count": 18,
   "id": "d8130ea9",
   "metadata": {},
   "outputs": [
    {
     "data": {
      "text/plain": [
       "['strand',\n",
       " 'CpG_Coordinates',\n",
       " '000',\n",
       " '001',\n",
       " '010',\n",
       " '011',\n",
       " '100',\n",
       " '101',\n",
       " '110',\n",
       " '111',\n",
       " 'Sample_ID',\n",
       " 'Replicate',\n",
       " 'Tissue']"
      ]
     },
     "execution_count": 18,
     "metadata": {},
     "output_type": "execute_result"
    }
   ],
   "source": [
    "data.columns.tolist()"
   ]
  },
  {
   "cell_type": "code",
   "execution_count": 19,
   "id": "eb4379ed",
   "metadata": {},
   "outputs": [],
   "source": [
    "data['Total_Coverage'] = data[['000', '001', '010', '011', '100', '101', '110', '111']].sum(axis=1)"
   ]
  },
  {
   "cell_type": "code",
   "execution_count": 20,
   "id": "4c3f5dc6",
   "metadata": {},
   "outputs": [
    {
     "data": {
      "text/html": [
       "<div>\n",
       "<style scoped>\n",
       "    .dataframe tbody tr th:only-of-type {\n",
       "        vertical-align: middle;\n",
       "    }\n",
       "\n",
       "    .dataframe tbody tr th {\n",
       "        vertical-align: top;\n",
       "    }\n",
       "\n",
       "    .dataframe thead th {\n",
       "        text-align: right;\n",
       "    }\n",
       "</style>\n",
       "<table border=\"1\" class=\"dataframe\">\n",
       "  <thead>\n",
       "    <tr style=\"text-align: right;\">\n",
       "      <th></th>\n",
       "      <th>strand</th>\n",
       "      <th>CpG_Coordinates</th>\n",
       "      <th>000</th>\n",
       "      <th>001</th>\n",
       "      <th>010</th>\n",
       "      <th>011</th>\n",
       "      <th>100</th>\n",
       "      <th>101</th>\n",
       "      <th>110</th>\n",
       "      <th>111</th>\n",
       "      <th>Sample_ID</th>\n",
       "      <th>Replicate</th>\n",
       "      <th>Tissue</th>\n",
       "      <th>Total_Coverage</th>\n",
       "    </tr>\n",
       "  </thead>\n",
       "  <tbody>\n",
       "    <tr>\n",
       "      <th>0</th>\n",
       "      <td>r</td>\n",
       "      <td>10035:10044:10046</td>\n",
       "      <td>1077</td>\n",
       "      <td>9</td>\n",
       "      <td>0</td>\n",
       "      <td>0</td>\n",
       "      <td>0</td>\n",
       "      <td>0</td>\n",
       "      <td>0</td>\n",
       "      <td>4</td>\n",
       "      <td>1</td>\n",
       "      <td>Rep2</td>\n",
       "      <td>cfDNA</td>\n",
       "      <td>1090</td>\n",
       "    </tr>\n",
       "    <tr>\n",
       "      <th>1</th>\n",
       "      <td>r</td>\n",
       "      <td>10035:10044:10053</td>\n",
       "      <td>1086</td>\n",
       "      <td>0</td>\n",
       "      <td>0</td>\n",
       "      <td>0</td>\n",
       "      <td>0</td>\n",
       "      <td>0</td>\n",
       "      <td>0</td>\n",
       "      <td>4</td>\n",
       "      <td>1</td>\n",
       "      <td>Rep2</td>\n",
       "      <td>cfDNA</td>\n",
       "      <td>1090</td>\n",
       "    </tr>\n",
       "    <tr>\n",
       "      <th>2</th>\n",
       "      <td>r</td>\n",
       "      <td>10035:10044:10058</td>\n",
       "      <td>1069</td>\n",
       "      <td>17</td>\n",
       "      <td>0</td>\n",
       "      <td>0</td>\n",
       "      <td>0</td>\n",
       "      <td>0</td>\n",
       "      <td>0</td>\n",
       "      <td>4</td>\n",
       "      <td>1</td>\n",
       "      <td>Rep2</td>\n",
       "      <td>cfDNA</td>\n",
       "      <td>1090</td>\n",
       "    </tr>\n",
       "    <tr>\n",
       "      <th>3</th>\n",
       "      <td>r</td>\n",
       "      <td>10035:10044:10071</td>\n",
       "      <td>1072</td>\n",
       "      <td>14</td>\n",
       "      <td>0</td>\n",
       "      <td>0</td>\n",
       "      <td>0</td>\n",
       "      <td>0</td>\n",
       "      <td>0</td>\n",
       "      <td>4</td>\n",
       "      <td>1</td>\n",
       "      <td>Rep2</td>\n",
       "      <td>cfDNA</td>\n",
       "      <td>1090</td>\n",
       "    </tr>\n",
       "    <tr>\n",
       "      <th>4</th>\n",
       "      <td>r</td>\n",
       "      <td>10035:10044:10075</td>\n",
       "      <td>1086</td>\n",
       "      <td>0</td>\n",
       "      <td>0</td>\n",
       "      <td>0</td>\n",
       "      <td>0</td>\n",
       "      <td>0</td>\n",
       "      <td>0</td>\n",
       "      <td>4</td>\n",
       "      <td>1</td>\n",
       "      <td>Rep2</td>\n",
       "      <td>cfDNA</td>\n",
       "      <td>1090</td>\n",
       "    </tr>\n",
       "  </tbody>\n",
       "</table>\n",
       "</div>"
      ],
      "text/plain": [
       "  strand    CpG_Coordinates   000  001  010  011  100  101  110  111  \\\n",
       "0      r  10035:10044:10046  1077    9    0    0    0    0    0    4   \n",
       "1      r  10035:10044:10053  1086    0    0    0    0    0    0    4   \n",
       "2      r  10035:10044:10058  1069   17    0    0    0    0    0    4   \n",
       "3      r  10035:10044:10071  1072   14    0    0    0    0    0    4   \n",
       "4      r  10035:10044:10075  1086    0    0    0    0    0    0    4   \n",
       "\n",
       "   Sample_ID Replicate Tissue  Total_Coverage  \n",
       "0          1      Rep2  cfDNA            1090  \n",
       "1          1      Rep2  cfDNA            1090  \n",
       "2          1      Rep2  cfDNA            1090  \n",
       "3          1      Rep2  cfDNA            1090  \n",
       "4          1      Rep2  cfDNA            1090  "
      ]
     },
     "execution_count": 20,
     "metadata": {},
     "output_type": "execute_result"
    }
   ],
   "source": [
    "data.head()"
   ]
  },
  {
   "cell_type": "code",
   "execution_count": 21,
   "id": "9a24fd74",
   "metadata": {
    "scrolled": true
   },
   "outputs": [
    {
     "data": {
      "text/html": [
       "<div>\n",
       "<style scoped>\n",
       "    .dataframe tbody tr th:only-of-type {\n",
       "        vertical-align: middle;\n",
       "    }\n",
       "\n",
       "    .dataframe tbody tr th {\n",
       "        vertical-align: top;\n",
       "    }\n",
       "\n",
       "    .dataframe thead th {\n",
       "        text-align: right;\n",
       "    }\n",
       "</style>\n",
       "<table border=\"1\" class=\"dataframe\">\n",
       "  <thead>\n",
       "    <tr style=\"text-align: right;\">\n",
       "      <th></th>\n",
       "      <th>strand</th>\n",
       "      <th>CpG_Coordinates</th>\n",
       "      <th>000</th>\n",
       "      <th>001</th>\n",
       "      <th>010</th>\n",
       "      <th>011</th>\n",
       "      <th>100</th>\n",
       "      <th>101</th>\n",
       "      <th>110</th>\n",
       "      <th>111</th>\n",
       "      <th>Sample_ID</th>\n",
       "      <th>Replicate</th>\n",
       "      <th>Tissue</th>\n",
       "      <th>Total_Coverage</th>\n",
       "    </tr>\n",
       "  </thead>\n",
       "  <tbody>\n",
       "    <tr>\n",
       "      <th>15392178</th>\n",
       "      <td>f</td>\n",
       "      <td>9998:10121:10133</td>\n",
       "      <td>76</td>\n",
       "      <td>0</td>\n",
       "      <td>0</td>\n",
       "      <td>0</td>\n",
       "      <td>0</td>\n",
       "      <td>0</td>\n",
       "      <td>0</td>\n",
       "      <td>0</td>\n",
       "      <td>80</td>\n",
       "      <td>Rep1</td>\n",
       "      <td>Islet</td>\n",
       "      <td>76</td>\n",
       "    </tr>\n",
       "    <tr>\n",
       "      <th>15392179</th>\n",
       "      <td>f</td>\n",
       "      <td>9998:10121:10140</td>\n",
       "      <td>47</td>\n",
       "      <td>0</td>\n",
       "      <td>0</td>\n",
       "      <td>0</td>\n",
       "      <td>0</td>\n",
       "      <td>0</td>\n",
       "      <td>0</td>\n",
       "      <td>0</td>\n",
       "      <td>80</td>\n",
       "      <td>Rep1</td>\n",
       "      <td>Islet</td>\n",
       "      <td>47</td>\n",
       "    </tr>\n",
       "    <tr>\n",
       "      <th>15392180</th>\n",
       "      <td>f</td>\n",
       "      <td>9998:10130:10133</td>\n",
       "      <td>76</td>\n",
       "      <td>0</td>\n",
       "      <td>0</td>\n",
       "      <td>0</td>\n",
       "      <td>0</td>\n",
       "      <td>0</td>\n",
       "      <td>0</td>\n",
       "      <td>0</td>\n",
       "      <td>80</td>\n",
       "      <td>Rep1</td>\n",
       "      <td>Islet</td>\n",
       "      <td>76</td>\n",
       "    </tr>\n",
       "    <tr>\n",
       "      <th>15392181</th>\n",
       "      <td>f</td>\n",
       "      <td>9998:10130:10140</td>\n",
       "      <td>47</td>\n",
       "      <td>0</td>\n",
       "      <td>0</td>\n",
       "      <td>0</td>\n",
       "      <td>0</td>\n",
       "      <td>0</td>\n",
       "      <td>0</td>\n",
       "      <td>0</td>\n",
       "      <td>80</td>\n",
       "      <td>Rep1</td>\n",
       "      <td>Islet</td>\n",
       "      <td>47</td>\n",
       "    </tr>\n",
       "    <tr>\n",
       "      <th>15392182</th>\n",
       "      <td>f</td>\n",
       "      <td>9998:10133:10140</td>\n",
       "      <td>47</td>\n",
       "      <td>0</td>\n",
       "      <td>0</td>\n",
       "      <td>0</td>\n",
       "      <td>0</td>\n",
       "      <td>0</td>\n",
       "      <td>0</td>\n",
       "      <td>0</td>\n",
       "      <td>80</td>\n",
       "      <td>Rep1</td>\n",
       "      <td>Islet</td>\n",
       "      <td>47</td>\n",
       "    </tr>\n",
       "  </tbody>\n",
       "</table>\n",
       "</div>"
      ],
      "text/plain": [
       "         strand   CpG_Coordinates  000  001  010  011  100  101  110  111  \\\n",
       "15392178      f  9998:10121:10133   76    0    0    0    0    0    0    0   \n",
       "15392179      f  9998:10121:10140   47    0    0    0    0    0    0    0   \n",
       "15392180      f  9998:10130:10133   76    0    0    0    0    0    0    0   \n",
       "15392181      f  9998:10130:10140   47    0    0    0    0    0    0    0   \n",
       "15392182      f  9998:10133:10140   47    0    0    0    0    0    0    0   \n",
       "\n",
       "          Sample_ID Replicate Tissue  Total_Coverage  \n",
       "15392178         80      Rep1  Islet              76  \n",
       "15392179         80      Rep1  Islet              47  \n",
       "15392180         80      Rep1  Islet              76  \n",
       "15392181         80      Rep1  Islet              47  \n",
       "15392182         80      Rep1  Islet              47  "
      ]
     },
     "execution_count": 21,
     "metadata": {},
     "output_type": "execute_result"
    }
   ],
   "source": [
    "data.tail()"
   ]
  },
  {
   "cell_type": "code",
   "execution_count": 22,
   "id": "1a6db641",
   "metadata": {},
   "outputs": [
    {
     "data": {
      "text/plain": [
       "15392183"
      ]
     },
     "execution_count": 22,
     "metadata": {},
     "output_type": "execute_result"
    }
   ],
   "source": [
    "len(data)"
   ]
  },
  {
   "cell_type": "code",
   "execution_count": 23,
   "id": "4ff69f58",
   "metadata": {},
   "outputs": [],
   "source": [
    "# Group data by Tissue type and calculate median and CV"
   ]
  },
  {
   "cell_type": "code",
   "execution_count": 24,
   "id": "286dd4e1",
   "metadata": {},
   "outputs": [],
   "source": [
    "tissue_stats = data.groupby('Tissue')['Total_Coverage'].agg(['median', 'mean', 'std'])"
   ]
  },
  {
   "cell_type": "code",
   "execution_count": 25,
   "id": "dd8d4389",
   "metadata": {},
   "outputs": [
    {
     "data": {
      "text/html": [
       "<div>\n",
       "<style scoped>\n",
       "    .dataframe tbody tr th:only-of-type {\n",
       "        vertical-align: middle;\n",
       "    }\n",
       "\n",
       "    .dataframe tbody tr th {\n",
       "        vertical-align: top;\n",
       "    }\n",
       "\n",
       "    .dataframe thead th {\n",
       "        text-align: right;\n",
       "    }\n",
       "</style>\n",
       "<table border=\"1\" class=\"dataframe\">\n",
       "  <thead>\n",
       "    <tr style=\"text-align: right;\">\n",
       "      <th></th>\n",
       "      <th>median</th>\n",
       "      <th>mean</th>\n",
       "      <th>std</th>\n",
       "    </tr>\n",
       "    <tr>\n",
       "      <th>Tissue</th>\n",
       "      <th></th>\n",
       "      <th></th>\n",
       "      <th></th>\n",
       "    </tr>\n",
       "  </thead>\n",
       "  <tbody>\n",
       "    <tr>\n",
       "      <th>Islet</th>\n",
       "      <td>84.0</td>\n",
       "      <td>147.359490</td>\n",
       "      <td>167.470211</td>\n",
       "    </tr>\n",
       "    <tr>\n",
       "      <th>cfDNA</th>\n",
       "      <td>484.0</td>\n",
       "      <td>1013.508239</td>\n",
       "      <td>1338.977645</td>\n",
       "    </tr>\n",
       "  </tbody>\n",
       "</table>\n",
       "</div>"
      ],
      "text/plain": [
       "        median         mean          std\n",
       "Tissue                                  \n",
       "Islet     84.0   147.359490   167.470211\n",
       "cfDNA    484.0  1013.508239  1338.977645"
      ]
     },
     "execution_count": 25,
     "metadata": {},
     "output_type": "execute_result"
    }
   ],
   "source": [
    "tissue_stats"
   ]
  },
  {
   "cell_type": "code",
   "execution_count": 26,
   "id": "7b00a528",
   "metadata": {},
   "outputs": [],
   "source": [
    "tissue_stats['CV'] = (tissue_stats['std'] / tissue_stats['mean']) * 100"
   ]
  },
  {
   "cell_type": "code",
   "execution_count": 27,
   "id": "a4feae83",
   "metadata": {
    "scrolled": true
   },
   "outputs": [
    {
     "data": {
      "text/html": [
       "<div>\n",
       "<style scoped>\n",
       "    .dataframe tbody tr th:only-of-type {\n",
       "        vertical-align: middle;\n",
       "    }\n",
       "\n",
       "    .dataframe tbody tr th {\n",
       "        vertical-align: top;\n",
       "    }\n",
       "\n",
       "    .dataframe thead th {\n",
       "        text-align: right;\n",
       "    }\n",
       "</style>\n",
       "<table border=\"1\" class=\"dataframe\">\n",
       "  <thead>\n",
       "    <tr style=\"text-align: right;\">\n",
       "      <th></th>\n",
       "      <th>median</th>\n",
       "      <th>mean</th>\n",
       "      <th>std</th>\n",
       "      <th>CV</th>\n",
       "    </tr>\n",
       "    <tr>\n",
       "      <th>Tissue</th>\n",
       "      <th></th>\n",
       "      <th></th>\n",
       "      <th></th>\n",
       "      <th></th>\n",
       "    </tr>\n",
       "  </thead>\n",
       "  <tbody>\n",
       "    <tr>\n",
       "      <th>Islet</th>\n",
       "      <td>84.0</td>\n",
       "      <td>147.359490</td>\n",
       "      <td>167.470211</td>\n",
       "      <td>113.647387</td>\n",
       "    </tr>\n",
       "    <tr>\n",
       "      <th>cfDNA</th>\n",
       "      <td>484.0</td>\n",
       "      <td>1013.508239</td>\n",
       "      <td>1338.977645</td>\n",
       "      <td>132.113149</td>\n",
       "    </tr>\n",
       "  </tbody>\n",
       "</table>\n",
       "</div>"
      ],
      "text/plain": [
       "        median         mean          std          CV\n",
       "Tissue                                              \n",
       "Islet     84.0   147.359490   167.470211  113.647387\n",
       "cfDNA    484.0  1013.508239  1338.977645  132.113149"
      ]
     },
     "execution_count": 27,
     "metadata": {},
     "output_type": "execute_result"
    }
   ],
   "source": [
    "tissue_stats"
   ]
  },
  {
   "cell_type": "code",
   "execution_count": 28,
   "id": "f669359e",
   "metadata": {},
   "outputs": [],
   "source": [
    "# Boxplot for total coverage"
   ]
  },
  {
   "cell_type": "code",
   "execution_count": 29,
   "id": "b9983773",
   "metadata": {},
   "outputs": [
    {
     "data": {
      "text/plain": [
       "<Figure size 1000x600 with 0 Axes>"
      ]
     },
     "metadata": {},
     "output_type": "display_data"
    },
    {
     "data": {
      "image/png": "[encoded data removed]",
      "text/plain": [
       "<Figure size 640x480 with 1 Axes>"
      ]
     },
     "metadata": {},
     "output_type": "display_data"
    }
   ],
   "source": [
    "plt.figure(figsize=(10, 6))\n",
    "data.boxplot(column='Total_Coverage', by='Tissue', grid=False)\n",
    "plt.title('Coverage Distribution by Tissue')\n",
    "plt.suptitle('')\n",
    "plt.xlabel('Tissue')\n",
    "plt.ylabel('Total Coverage')\n",
    "plt.show()\n"
   ]
  },
  {
   "cell_type": "code",
   "execution_count": 30,
   "id": "cad47a40",
   "metadata": {},
   "outputs": [],
   "source": [
    "# Bar plot for median coverage"
   ]
  },
  {
   "cell_type": "code",
   "execution_count": 31,
   "id": "34f4c9e4",
   "metadata": {},
   "outputs": [
    {
     "data": {
      "image/png": "[encoded data removed]",
      "text/plain": [
       "<Figure size 800x600 with 1 Axes>"
      ]
     },
     "metadata": {},
     "output_type": "display_data"
    }
   ],
   "source": [
    "plt.figure(figsize=(8, 6))\n",
    "tissue_stats['median'].plot(kind='bar', color=['skyblue', 'lightgreen'])\n",
    "plt.title('Median Coverage by Tissue')\n",
    "plt.ylabel('Median Coverage')\n",
    "plt.show()"
   ]
  },
  {
   "cell_type": "code",
   "execution_count": 32,
   "id": "aa8b0da7",
   "metadata": {},
   "outputs": [
    {
     "data": {
      "image/png": "[encoded data removed]",
      "text/plain": [
       "<Figure size 800x600 with 1 Axes>"
      ]
     },
     "metadata": {},
     "output_type": "display_data"
    }
   ],
   "source": [
    "# Plot for CV (Coefficient of Variation)\n",
    "plt.figure(figsize=(8, 6))\n",
    "tissue_stats['CV'].plot(kind='bar', color='orange')\n",
    "plt.title('Coefficient of Variation by Tissue')\n",
    "plt.ylabel('CV (%)')\n",
    "plt.show()"
   ]
  },
  {
   "cell_type": "code",
   "execution_count": 33,
   "id": "8e497bb5",
   "metadata": {},
   "outputs": [
    {
     "data": {
      "image/png": "[encoded data removed]",
      "text/plain": [
       "<Figure size 1000x600 with 1 Axes>"
      ]
     },
     "metadata": {},
     "output_type": "display_data"
    }
   ],
   "source": [
    "import seaborn as sns\n",
    "import matplotlib.pyplot as plt\n",
    "\n",
    "plt.figure(figsize=(10, 6))\n",
    "sns.violinplot(x='Tissue', y='Total_Coverage', data=data, inner='box', palette='muted')\n",
    "plt.title('Coverage Distribution by Tissue')\n",
    "plt.xlabel('Tissue')\n",
    "plt.ylabel('Total Coverage')\n",
    "plt.show()\n"
   ]
  },
  {
   "cell_type": "code",
   "execution_count": null,
   "id": "e86c9be2",
   "metadata": {},
   "outputs": [],
   "source": []
  }
 ],
 "metadata": {
  "kernelspec": {
   "display_name": "Python 3 (ipykernel)",
   "language": "python",
   "name": "python3"
  },
  "language_info": {
   "codemirror_mode": {
    "name": "ipython",
    "version": 3
   },
   "file_extension": ".py",
   "mimetype": "text/x-python",
   "name": "python",
   "nbconvert_exporter": "python",
   "pygments_lexer": "ipython3",
   "version": "3.10.9"
  }
 },
 "nbformat": 4,
 "nbformat_minor": 5
}
